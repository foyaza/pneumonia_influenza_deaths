{
 "cells": [
  {
   "cell_type": "code",
   "execution_count": 1,
   "metadata": {},
   "outputs": [],
   "source": [
    "#Importing Libraries\n",
    "import pandas as pd\n",
    "import numpy as np"
   ]
  },
  {
   "cell_type": "code",
   "execution_count": 2,
   "metadata": {},
   "outputs": [],
   "source": [
    "#Reading one season vaccinated percetage data\n",
    "vacc_09_10 = pd.read_csv('data/2009-10 vaccination_coverage.txt')"
   ]
  },
  {
   "cell_type": "code",
   "execution_count": 3,
   "metadata": {},
   "outputs": [
    {
     "data": {
      "text/html": [
       "<div>\n",
       "<style scoped>\n",
       "    .dataframe tbody tr th:only-of-type {\n",
       "        vertical-align: middle;\n",
       "    }\n",
       "\n",
       "    .dataframe tbody tr th {\n",
       "        vertical-align: top;\n",
       "    }\n",
       "\n",
       "    .dataframe thead th {\n",
       "        text-align: right;\n",
       "    }\n",
       "</style>\n",
       "<table border=\"1\" class=\"dataframe\">\n",
       "  <thead>\n",
       "    <tr style=\"text-align: right;\">\n",
       "      <th></th>\n",
       "      <th>States</th>\n",
       "      <th>n</th>\n",
       "      <th>%</th>\n",
       "      <th>CI</th>\n",
       "    </tr>\n",
       "  </thead>\n",
       "  <tbody>\n",
       "    <tr>\n",
       "      <th>Alabama</th>\n",
       "      <td>9</td>\n",
       "      <td>441</td>\n",
       "      <td>45.8</td>\n",
       "      <td>(±2.0)</td>\n",
       "    </tr>\n",
       "    <tr>\n",
       "      <th>Alaska</th>\n",
       "      <td>5</td>\n",
       "      <td>58</td>\n",
       "      <td>45.1</td>\n",
       "      <td>(±3.2)</td>\n",
       "    </tr>\n",
       "    <tr>\n",
       "      <th>Arizona</th>\n",
       "      <td>8</td>\n",
       "      <td>321</td>\n",
       "      <td>45.9</td>\n",
       "      <td>(±2.4)</td>\n",
       "    </tr>\n",
       "    <tr>\n",
       "      <th>Arkansas</th>\n",
       "      <td>5</td>\n",
       "      <td>931</td>\n",
       "      <td>55.2</td>\n",
       "      <td>(±3.7)</td>\n",
       "    </tr>\n",
       "    <tr>\n",
       "      <th>California</th>\n",
       "      <td>18</td>\n",
       "      <td>39</td>\n",
       "      <td>45.4</td>\n",
       "      <td>(±1.4)</td>\n",
       "    </tr>\n",
       "  </tbody>\n",
       "</table>\n",
       "</div>"
      ],
      "text/plain": [
       "            States    n     %      CI\n",
       "Alabama          9  441  45.8  (±2.0)\n",
       "Alaska           5   58  45.1  (±3.2)\n",
       "Arizona          8  321  45.9  (±2.4)\n",
       "Arkansas         5  931  55.2  (±3.7)\n",
       "California      18   39  45.4  (±1.4)"
      ]
     },
     "execution_count": 3,
     "metadata": {},
     "output_type": "execute_result"
    }
   ],
   "source": [
    "#Looking at the data, data did not read correct because of text file with comma separated numbers.\n",
    "vacc_09_10.head()"
   ]
  },
  {
   "cell_type": "code",
   "execution_count": 4,
   "metadata": {},
   "outputs": [],
   "source": [
    "#Changing data types for columns below to read data correctly.\n",
    "vacc_09_10.States = vacc_09_10.States.astype(str)\n",
    "vacc_09_10.n = vacc_09_10.n.astype(str)"
   ]
  },
  {
   "cell_type": "code",
   "execution_count": 5,
   "metadata": {},
   "outputs": [],
   "source": [
    "#Padding zero before sample column if the number is less than three digit.\n",
    "vacc_09_10['n'] = vacc_09_10['n'].str.zfill(3)"
   ]
  },
  {
   "cell_type": "code",
   "execution_count": 6,
   "metadata": {},
   "outputs": [],
   "source": [
    "#Adding numbers left of at the time of reading data.\n",
    "vacc_09_10['n'] = vacc_09_10['States'] + vacc_09_10['n']"
   ]
  },
  {
   "cell_type": "code",
   "execution_count": 7,
   "metadata": {},
   "outputs": [
    {
     "data": {
      "text/html": [
       "<div>\n",
       "<style scoped>\n",
       "    .dataframe tbody tr th:only-of-type {\n",
       "        vertical-align: middle;\n",
       "    }\n",
       "\n",
       "    .dataframe tbody tr th {\n",
       "        vertical-align: top;\n",
       "    }\n",
       "\n",
       "    .dataframe thead th {\n",
       "        text-align: right;\n",
       "    }\n",
       "</style>\n",
       "<table border=\"1\" class=\"dataframe\">\n",
       "  <thead>\n",
       "    <tr style=\"text-align: right;\">\n",
       "      <th></th>\n",
       "      <th>States</th>\n",
       "      <th>n</th>\n",
       "      <th>%</th>\n",
       "      <th>CI</th>\n",
       "    </tr>\n",
       "  </thead>\n",
       "  <tbody>\n",
       "    <tr>\n",
       "      <th>Alabama</th>\n",
       "      <td>9</td>\n",
       "      <td>9441</td>\n",
       "      <td>45.8</td>\n",
       "      <td>(±2.0)</td>\n",
       "    </tr>\n",
       "    <tr>\n",
       "      <th>Alaska</th>\n",
       "      <td>5</td>\n",
       "      <td>5058</td>\n",
       "      <td>45.1</td>\n",
       "      <td>(±3.2)</td>\n",
       "    </tr>\n",
       "    <tr>\n",
       "      <th>Arizona</th>\n",
       "      <td>8</td>\n",
       "      <td>8321</td>\n",
       "      <td>45.9</td>\n",
       "      <td>(±2.4)</td>\n",
       "    </tr>\n",
       "    <tr>\n",
       "      <th>Arkansas</th>\n",
       "      <td>5</td>\n",
       "      <td>5931</td>\n",
       "      <td>55.2</td>\n",
       "      <td>(±3.7)</td>\n",
       "    </tr>\n",
       "    <tr>\n",
       "      <th>California</th>\n",
       "      <td>18</td>\n",
       "      <td>18039</td>\n",
       "      <td>45.4</td>\n",
       "      <td>(±1.4)</td>\n",
       "    </tr>\n",
       "  </tbody>\n",
       "</table>\n",
       "</div>"
      ],
      "text/plain": [
       "           States      n     %      CI\n",
       "Alabama         9   9441  45.8  (±2.0)\n",
       "Alaska          5   5058  45.1  (±3.2)\n",
       "Arizona         8   8321  45.9  (±2.4)\n",
       "Arkansas        5   5931  55.2  (±3.7)\n",
       "California     18  18039  45.4  (±1.4)"
      ]
     },
     "execution_count": 7,
     "metadata": {},
     "output_type": "execute_result"
    }
   ],
   "source": [
    "#Looking at the data again and now sample(n) column looks right.\n",
    "vacc_09_10.head()"
   ]
  },
  {
   "cell_type": "code",
   "execution_count": 8,
   "metadata": {},
   "outputs": [],
   "source": [
    "#Droping the States column as it not at the right place\n",
    "vacc_09_10 = vacc_09_10.drop(columns = 'States')"
   ]
  },
  {
   "cell_type": "code",
   "execution_count": 9,
   "metadata": {},
   "outputs": [],
   "source": [
    "#Reseting index\n",
    "vacc_09_10 = vacc_09_10.reset_index()"
   ]
  },
  {
   "cell_type": "code",
   "execution_count": 10,
   "metadata": {},
   "outputs": [],
   "source": [
    "#Renaming column 'index' as 'states'\n",
    "vacc_09_10 = vacc_09_10.rename(columns = {'index': 'states'})"
   ]
  },
  {
   "cell_type": "code",
   "execution_count": 11,
   "metadata": {},
   "outputs": [],
   "source": [
    "#Creating a new column to show this data is for the season 2009-10\n",
    "vacc_09_10['season'] = '2009-10'"
   ]
  },
  {
   "cell_type": "code",
   "execution_count": 12,
   "metadata": {},
   "outputs": [
    {
     "data": {
      "text/html": [
       "<div>\n",
       "<style scoped>\n",
       "    .dataframe tbody tr th:only-of-type {\n",
       "        vertical-align: middle;\n",
       "    }\n",
       "\n",
       "    .dataframe tbody tr th {\n",
       "        vertical-align: top;\n",
       "    }\n",
       "\n",
       "    .dataframe thead th {\n",
       "        text-align: right;\n",
       "    }\n",
       "</style>\n",
       "<table border=\"1\" class=\"dataframe\">\n",
       "  <thead>\n",
       "    <tr style=\"text-align: right;\">\n",
       "      <th></th>\n",
       "      <th>states</th>\n",
       "      <th>n</th>\n",
       "      <th>%</th>\n",
       "      <th>CI</th>\n",
       "      <th>season</th>\n",
       "    </tr>\n",
       "  </thead>\n",
       "  <tbody>\n",
       "    <tr>\n",
       "      <th>0</th>\n",
       "      <td>Alabama</td>\n",
       "      <td>9441</td>\n",
       "      <td>45.8</td>\n",
       "      <td>(±2.0)</td>\n",
       "      <td>2009-10</td>\n",
       "    </tr>\n",
       "    <tr>\n",
       "      <th>1</th>\n",
       "      <td>Alaska</td>\n",
       "      <td>5058</td>\n",
       "      <td>45.1</td>\n",
       "      <td>(±3.2)</td>\n",
       "      <td>2009-10</td>\n",
       "    </tr>\n",
       "    <tr>\n",
       "      <th>2</th>\n",
       "      <td>Arizona</td>\n",
       "      <td>8321</td>\n",
       "      <td>45.9</td>\n",
       "      <td>(±2.4)</td>\n",
       "      <td>2009-10</td>\n",
       "    </tr>\n",
       "    <tr>\n",
       "      <th>3</th>\n",
       "      <td>Arkansas</td>\n",
       "      <td>5931</td>\n",
       "      <td>55.2</td>\n",
       "      <td>(±3.7)</td>\n",
       "      <td>2009-10</td>\n",
       "    </tr>\n",
       "    <tr>\n",
       "      <th>4</th>\n",
       "      <td>California</td>\n",
       "      <td>18039</td>\n",
       "      <td>45.4</td>\n",
       "      <td>(±1.4)</td>\n",
       "      <td>2009-10</td>\n",
       "    </tr>\n",
       "  </tbody>\n",
       "</table>\n",
       "</div>"
      ],
      "text/plain": [
       "       states      n     %      CI   season\n",
       "0     Alabama   9441  45.8  (±2.0)  2009-10\n",
       "1      Alaska   5058  45.1  (±3.2)  2009-10\n",
       "2     Arizona   8321  45.9  (±2.4)  2009-10\n",
       "3    Arkansas   5931  55.2  (±3.7)  2009-10\n",
       "4  California  18039  45.4  (±1.4)  2009-10"
      ]
     },
     "execution_count": 12,
     "metadata": {},
     "output_type": "execute_result"
    }
   ],
   "source": [
    "#Looking at the final look of the data\n",
    "vacc_09_10.head()"
   ]
  },
  {
   "cell_type": "markdown",
   "metadata": {},
   "source": [
    "Now, doing reading all remaining seasons' datasets and doing the same process as before to have them clean and right."
   ]
  },
  {
   "cell_type": "code",
   "execution_count": 13,
   "metadata": {},
   "outputs": [],
   "source": [
    "vacc_10_11 = pd.read_csv('data/2010-11 vaccination_coverage.txt')\n",
    "vacc_11_12 = pd.read_csv('data/2011-12 vaccination_coverage.txt')\n",
    "vacc_12_13 = pd.read_csv('data/2012-13 vaccination_coverage.txt')\n",
    "vacc_13_14 = pd.read_csv('data/2013-14 vaccination_coverage.txt')\n",
    "vacc_14_15 = pd.read_csv('data/2014-15 vaccination_coverage.txt')\n",
    "vacc_15_16 = pd.read_csv('data/2015-16 vaccination_coverage.txt')\n",
    "vacc_16_17 = pd.read_csv('data/2016-17 vaccination_coverage.txt')\n",
    "vacc_17_18 = pd.read_csv('data/2017-18 vaccination_coverage.txt')\n",
    "vacc_18_19 = pd.read_csv('data/2018-19 vaccination_coverage.txt')"
   ]
  },
  {
   "cell_type": "code",
   "execution_count": 14,
   "metadata": {},
   "outputs": [],
   "source": [
    "vacc_10_11.States = vacc_10_11.States.astype(str)\n",
    "vacc_10_11.n = vacc_10_11.n.astype(str)\n",
    "vacc_11_12.States = vacc_11_12.States.astype(str)\n",
    "vacc_11_12.n = vacc_11_12.n.astype(str)\n",
    "vacc_12_13.States = vacc_12_13.States.astype(str)\n",
    "vacc_12_13.n = vacc_12_13.n.astype(str)\n",
    "vacc_13_14.States = vacc_13_14.States.astype(str)\n",
    "vacc_13_14.n = vacc_13_14.n.astype(str)\n",
    "vacc_14_15.States = vacc_14_15.States.astype(str)\n",
    "vacc_14_15.n = vacc_14_15.n.astype(str)\n",
    "vacc_15_16.States = vacc_15_16.States.astype(str)\n",
    "vacc_15_16.n = vacc_15_16.n.astype(str)\n",
    "vacc_16_17.States = vacc_16_17.States.astype(str)\n",
    "vacc_16_17.n = vacc_16_17.n.astype(str)\n",
    "vacc_17_18.States = vacc_17_18.States.astype(str)\n",
    "vacc_17_18.n = vacc_17_18.n.astype(str)\n",
    "vacc_18_19.States = vacc_18_19.States.astype(str)\n",
    "vacc_18_19.n = vacc_18_19.n.astype(str)"
   ]
  },
  {
   "cell_type": "code",
   "execution_count": 15,
   "metadata": {},
   "outputs": [],
   "source": [
    "vacc_10_11['n'] = vacc_10_11['n'].str.zfill(3)\n",
    "vacc_11_12['n'] = vacc_11_12['n'].str.zfill(3)\n",
    "vacc_12_13['n'] = vacc_12_13['n'].str.zfill(3)\n",
    "vacc_13_14['n'] = vacc_13_14['n'].str.zfill(3)\n",
    "vacc_14_15['n'] = vacc_14_15['n'].str.zfill(3)\n",
    "vacc_15_16['n'] = vacc_15_16['n'].str.zfill(3)\n",
    "vacc_16_17['n'] = vacc_16_17['n'].str.zfill(3)\n",
    "vacc_17_18['n'] = vacc_17_18['n'].str.zfill(3)\n",
    "vacc_18_19['n'] = vacc_18_19['n'].str.zfill(3)"
   ]
  },
  {
   "cell_type": "code",
   "execution_count": 16,
   "metadata": {},
   "outputs": [],
   "source": [
    "vacc_10_11['n'] = vacc_10_11['States'] + vacc_10_11['n']\n",
    "vacc_11_12['n'] = vacc_11_12['States'] + vacc_11_12['n']\n",
    "vacc_12_13['n'] = vacc_12_13['States'] + vacc_12_13['n']\n",
    "vacc_13_14['n'] = vacc_13_14['States'] + vacc_13_14['n']\n",
    "vacc_14_15['n'] = vacc_14_15['States'] + vacc_14_15['n']\n",
    "vacc_15_16['n'] = vacc_15_16['States'] + vacc_15_16['n']\n",
    "vacc_16_17['n'] = vacc_16_17['States'] + vacc_16_17['n']\n",
    "vacc_17_18['n'] = vacc_17_18['States'] + vacc_17_18['n']\n",
    "vacc_18_19['n'] = vacc_18_19['States'] + vacc_18_19['n']"
   ]
  },
  {
   "cell_type": "code",
   "execution_count": 17,
   "metadata": {},
   "outputs": [],
   "source": [
    "vacc_10_11 = vacc_10_11.drop(columns = 'States')\n",
    "vacc_11_12 = vacc_11_12.drop(columns = 'States')\n",
    "vacc_12_13 = vacc_12_13.drop(columns = 'States')\n",
    "vacc_13_14 = vacc_13_14.drop(columns = 'States')\n",
    "vacc_14_15 = vacc_14_15.drop(columns = 'States')\n",
    "vacc_15_16 = vacc_15_16.drop(columns = 'States')\n",
    "vacc_16_17 = vacc_16_17.drop(columns = 'States')\n",
    "vacc_17_18 = vacc_17_18.drop(columns = 'States')\n",
    "vacc_18_19 = vacc_18_19.drop(columns = 'States')"
   ]
  },
  {
   "cell_type": "code",
   "execution_count": 18,
   "metadata": {},
   "outputs": [],
   "source": [
    "vacc_10_11 = vacc_10_11.reset_index()\n",
    "vacc_11_12 = vacc_11_12.reset_index()\n",
    "vacc_12_13 = vacc_12_13.reset_index()\n",
    "vacc_13_14 = vacc_13_14.reset_index()\n",
    "vacc_14_15 = vacc_14_15.reset_index()\n",
    "vacc_15_16 = vacc_15_16.reset_index()\n",
    "vacc_16_17 = vacc_16_17.reset_index()\n",
    "vacc_17_18 = vacc_17_18.reset_index()\n",
    "vacc_18_19 = vacc_18_19.reset_index()"
   ]
  },
  {
   "cell_type": "code",
   "execution_count": 19,
   "metadata": {},
   "outputs": [],
   "source": [
    "vacc_10_11 = vacc_10_11.rename(columns = {'index': 'states'})\n",
    "vacc_11_12 = vacc_11_12.rename(columns = {'index': 'states'})\n",
    "vacc_12_13 = vacc_12_13.rename(columns = {'index': 'states'})\n",
    "vacc_13_14 = vacc_13_14.rename(columns = {'index': 'states'})\n",
    "vacc_14_15 = vacc_14_15.rename(columns = {'index': 'states'})\n",
    "vacc_15_16 = vacc_15_16.rename(columns = {'index': 'states'})\n",
    "vacc_16_17 = vacc_16_17.rename(columns = {'index': 'states'})\n",
    "vacc_17_18 = vacc_17_18.rename(columns = {'index': 'states'})\n",
    "vacc_18_19 = vacc_18_19.rename(columns = {'index': 'states'})"
   ]
  },
  {
   "cell_type": "code",
   "execution_count": 20,
   "metadata": {},
   "outputs": [],
   "source": [
    "vacc_10_11['season'] = '2010-11'\n",
    "vacc_11_12['season'] = '2011-12'\n",
    "vacc_12_13['season'] = '2012-13'\n",
    "vacc_13_14['season'] = '2013-14'\n",
    "vacc_14_15['season'] = '2014-15'\n",
    "vacc_15_16['season'] = '2015-16'\n",
    "vacc_16_17['season'] = '2016-17'\n",
    "vacc_17_18['season'] = '2017-18'\n",
    "vacc_18_19['season'] = '2018-19'"
   ]
  },
  {
   "cell_type": "code",
   "execution_count": 21,
   "metadata": {},
   "outputs": [
    {
     "data": {
      "text/html": [
       "<div>\n",
       "<style scoped>\n",
       "    .dataframe tbody tr th:only-of-type {\n",
       "        vertical-align: middle;\n",
       "    }\n",
       "\n",
       "    .dataframe tbody tr th {\n",
       "        vertical-align: top;\n",
       "    }\n",
       "\n",
       "    .dataframe thead th {\n",
       "        text-align: right;\n",
       "    }\n",
       "</style>\n",
       "<table border=\"1\" class=\"dataframe\">\n",
       "  <thead>\n",
       "    <tr style=\"text-align: right;\">\n",
       "      <th></th>\n",
       "      <th>states</th>\n",
       "      <th>n</th>\n",
       "      <th>%</th>\n",
       "      <th>CI</th>\n",
       "      <th>season</th>\n",
       "    </tr>\n",
       "  </thead>\n",
       "  <tbody>\n",
       "    <tr>\n",
       "      <th>0</th>\n",
       "      <td>Alabama</td>\n",
       "      <td>7966</td>\n",
       "      <td>48.3</td>\n",
       "      <td>(±2.0)</td>\n",
       "      <td>2018-19</td>\n",
       "    </tr>\n",
       "    <tr>\n",
       "      <th>1</th>\n",
       "      <td>Alaska</td>\n",
       "      <td>4169</td>\n",
       "      <td>44.1</td>\n",
       "      <td>(±3.3)</td>\n",
       "      <td>2018-19</td>\n",
       "    </tr>\n",
       "    <tr>\n",
       "      <th>2</th>\n",
       "      <td>Arizona</td>\n",
       "      <td>8714</td>\n",
       "      <td>45.6</td>\n",
       "      <td>(±2.1)</td>\n",
       "      <td>2018-19</td>\n",
       "    </tr>\n",
       "    <tr>\n",
       "      <th>3</th>\n",
       "      <td>Arkansas</td>\n",
       "      <td>5247</td>\n",
       "      <td>48.8</td>\n",
       "      <td>(±2.5)</td>\n",
       "      <td>2018-19</td>\n",
       "    </tr>\n",
       "    <tr>\n",
       "      <th>4</th>\n",
       "      <td>California</td>\n",
       "      <td>9857</td>\n",
       "      <td>47.4</td>\n",
       "      <td>(±1.6)</td>\n",
       "      <td>2018-19</td>\n",
       "    </tr>\n",
       "  </tbody>\n",
       "</table>\n",
       "</div>"
      ],
      "text/plain": [
       "       states     n     %      CI   season\n",
       "0     Alabama  7966  48.3  (±2.0)  2018-19\n",
       "1      Alaska  4169  44.1  (±3.3)  2018-19\n",
       "2     Arizona  8714  45.6  (±2.1)  2018-19\n",
       "3    Arkansas  5247  48.8  (±2.5)  2018-19\n",
       "4  California  9857  47.4  (±1.6)  2018-19"
      ]
     },
     "execution_count": 21,
     "metadata": {},
     "output_type": "execute_result"
    }
   ],
   "source": [
    "#Checking random season data if they look right.\n",
    "vacc_18_19.head()"
   ]
  },
  {
   "cell_type": "code",
   "execution_count": 22,
   "metadata": {},
   "outputs": [],
   "source": [
    "#Appending all seasons' data to have them in one dataset in order to do exploration and merging.\n",
    "vacc_rate = vacc_09_10.append(vacc_10_11).append(vacc_11_12).append(vacc_12_13).append(vacc_13_14).append(vacc_14_15).append(vacc_15_16).append(vacc_16_17).append(vacc_17_18).append(vacc_18_19)"
   ]
  },
  {
   "cell_type": "code",
   "execution_count": 23,
   "metadata": {},
   "outputs": [],
   "source": [
    "#Reseting index after appending\n",
    "vacc_rate = vacc_rate.reset_index(drop = True)"
   ]
  },
  {
   "cell_type": "code",
   "execution_count": 24,
   "metadata": {},
   "outputs": [
    {
     "data": {
      "text/html": [
       "<div>\n",
       "<style scoped>\n",
       "    .dataframe tbody tr th:only-of-type {\n",
       "        vertical-align: middle;\n",
       "    }\n",
       "\n",
       "    .dataframe tbody tr th {\n",
       "        vertical-align: top;\n",
       "    }\n",
       "\n",
       "    .dataframe thead th {\n",
       "        text-align: right;\n",
       "    }\n",
       "</style>\n",
       "<table border=\"1\" class=\"dataframe\">\n",
       "  <thead>\n",
       "    <tr style=\"text-align: right;\">\n",
       "      <th></th>\n",
       "      <th>states</th>\n",
       "      <th>n</th>\n",
       "      <th>%</th>\n",
       "      <th>CI</th>\n",
       "      <th>season</th>\n",
       "    </tr>\n",
       "  </thead>\n",
       "  <tbody>\n",
       "    <tr>\n",
       "      <th>0</th>\n",
       "      <td>Alabama</td>\n",
       "      <td>9441</td>\n",
       "      <td>45.8</td>\n",
       "      <td>(±2.0)</td>\n",
       "      <td>2009-10</td>\n",
       "    </tr>\n",
       "    <tr>\n",
       "      <th>1</th>\n",
       "      <td>Alaska</td>\n",
       "      <td>5058</td>\n",
       "      <td>45.1</td>\n",
       "      <td>(±3.2)</td>\n",
       "      <td>2009-10</td>\n",
       "    </tr>\n",
       "    <tr>\n",
       "      <th>2</th>\n",
       "      <td>Arizona</td>\n",
       "      <td>8321</td>\n",
       "      <td>45.9</td>\n",
       "      <td>(±2.4)</td>\n",
       "      <td>2009-10</td>\n",
       "    </tr>\n",
       "    <tr>\n",
       "      <th>3</th>\n",
       "      <td>Arkansas</td>\n",
       "      <td>5931</td>\n",
       "      <td>55.2</td>\n",
       "      <td>(±3.7)</td>\n",
       "      <td>2009-10</td>\n",
       "    </tr>\n",
       "    <tr>\n",
       "      <th>4</th>\n",
       "      <td>California</td>\n",
       "      <td>18039</td>\n",
       "      <td>45.4</td>\n",
       "      <td>(±1.4)</td>\n",
       "      <td>2009-10</td>\n",
       "    </tr>\n",
       "  </tbody>\n",
       "</table>\n",
       "</div>"
      ],
      "text/plain": [
       "       states      n     %      CI   season\n",
       "0     Alabama   9441  45.8  (±2.0)  2009-10\n",
       "1      Alaska   5058  45.1  (±3.2)  2009-10\n",
       "2     Arizona   8321  45.9  (±2.4)  2009-10\n",
       "3    Arkansas   5931  55.2  (±3.7)  2009-10\n",
       "4  California  18039  45.4  (±1.4)  2009-10"
      ]
     },
     "execution_count": 24,
     "metadata": {},
     "output_type": "execute_result"
    }
   ],
   "source": [
    "#Looking at the final dataset if it looks okay.\n",
    "vacc_rate.head()"
   ]
  },
  {
   "cell_type": "code",
   "execution_count": 25,
   "metadata": {},
   "outputs": [
    {
     "data": {
      "text/html": [
       "<div>\n",
       "<style scoped>\n",
       "    .dataframe tbody tr th:only-of-type {\n",
       "        vertical-align: middle;\n",
       "    }\n",
       "\n",
       "    .dataframe tbody tr th {\n",
       "        vertical-align: top;\n",
       "    }\n",
       "\n",
       "    .dataframe thead th {\n",
       "        text-align: right;\n",
       "    }\n",
       "</style>\n",
       "<table border=\"1\" class=\"dataframe\">\n",
       "  <thead>\n",
       "    <tr style=\"text-align: right;\">\n",
       "      <th></th>\n",
       "      <th>states</th>\n",
       "      <th>n</th>\n",
       "      <th>%</th>\n",
       "      <th>CI</th>\n",
       "      <th>season</th>\n",
       "    </tr>\n",
       "  </thead>\n",
       "  <tbody>\n",
       "    <tr>\n",
       "      <th>208</th>\n",
       "      <td>California</td>\n",
       "      <td>5854</td>\n",
       "      <td>NR</td>\n",
       "      <td>NR</td>\n",
       "      <td>2013-14</td>\n",
       "    </tr>\n",
       "    <tr>\n",
       "      <th>228</th>\n",
       "      <td>Mississippi</td>\n",
       "      <td>5768</td>\n",
       "      <td>NR</td>\n",
       "      <td>NR</td>\n",
       "      <td>2013-14</td>\n",
       "    </tr>\n",
       "    <tr>\n",
       "      <th>416</th>\n",
       "      <td>District of Columbia</td>\n",
       "      <td>4122</td>\n",
       "      <td>NR</td>\n",
       "      <td>NR</td>\n",
       "      <td>2017-18</td>\n",
       "    </tr>\n",
       "    <tr>\n",
       "      <th>467</th>\n",
       "      <td>District of Columbia</td>\n",
       "      <td>NR0NR</td>\n",
       "      <td>NR</td>\n",
       "      <td>NaN</td>\n",
       "      <td>2018-19</td>\n",
       "    </tr>\n",
       "    <tr>\n",
       "      <th>489</th>\n",
       "      <td>New Jersey</td>\n",
       "      <td>NR0NR</td>\n",
       "      <td>NR</td>\n",
       "      <td>NaN</td>\n",
       "      <td>2018-19</td>\n",
       "    </tr>\n",
       "  </tbody>\n",
       "</table>\n",
       "</div>"
      ],
      "text/plain": [
       "                   states      n   %   CI   season\n",
       "208            California   5854  NR   NR  2013-14\n",
       "228           Mississippi   5768  NR   NR  2013-14\n",
       "416  District of Columbia   4122  NR   NR  2017-18\n",
       "467  District of Columbia  NR0NR  NR  NaN  2018-19\n",
       "489            New Jersey  NR0NR  NR  NaN  2018-19"
      ]
     },
     "execution_count": 25,
     "metadata": {},
     "output_type": "execute_result"
    }
   ],
   "source": [
    "vacc_rate[vacc_rate['%'] == 'NR']"
   ]
  },
  {
   "cell_type": "code",
   "execution_count": 26,
   "metadata": {},
   "outputs": [
    {
     "data": {
      "text/plain": [
       "dtype('float64')"
      ]
     },
     "execution_count": 26,
     "metadata": {},
     "output_type": "execute_result"
    }
   ],
   "source": [
    "#Converting data type for columns sample(n) and vaccination percentage(%) as numeric.\n",
    "vacc_rate['n'] = pd.to_numeric(vacc_rate['n'], errors = 'coerce')\n",
    "vacc_rate['%'] = pd.to_numeric(vacc_rate['%'], errors = 'coerce')\n",
    "vacc_rate['%'].dtype"
   ]
  },
  {
   "cell_type": "code",
   "execution_count": 27,
   "metadata": {},
   "outputs": [],
   "source": [
    "#Renaming columns name.\n",
    "vacc_rate = vacc_rate.rename(columns = {'states': 'states', 'n':'sample','%':'percent_vacc','CI':'CI','season':'season'})"
   ]
  },
  {
   "cell_type": "code",
   "execution_count": 28,
   "metadata": {},
   "outputs": [
    {
     "data": {
      "text/html": [
       "<div>\n",
       "<style scoped>\n",
       "    .dataframe tbody tr th:only-of-type {\n",
       "        vertical-align: middle;\n",
       "    }\n",
       "\n",
       "    .dataframe tbody tr th {\n",
       "        vertical-align: top;\n",
       "    }\n",
       "\n",
       "    .dataframe thead th {\n",
       "        text-align: right;\n",
       "    }\n",
       "</style>\n",
       "<table border=\"1\" class=\"dataframe\">\n",
       "  <thead>\n",
       "    <tr style=\"text-align: right;\">\n",
       "      <th></th>\n",
       "      <th>states</th>\n",
       "      <th>sample</th>\n",
       "      <th>percent_vacc</th>\n",
       "      <th>CI</th>\n",
       "      <th>season</th>\n",
       "    </tr>\n",
       "  </thead>\n",
       "  <tbody>\n",
       "    <tr>\n",
       "      <th>0</th>\n",
       "      <td>Alabama</td>\n",
       "      <td>9441.0</td>\n",
       "      <td>45.8</td>\n",
       "      <td>(±2.0)</td>\n",
       "      <td>2009-10</td>\n",
       "    </tr>\n",
       "    <tr>\n",
       "      <th>1</th>\n",
       "      <td>Alaska</td>\n",
       "      <td>5058.0</td>\n",
       "      <td>45.1</td>\n",
       "      <td>(±3.2)</td>\n",
       "      <td>2009-10</td>\n",
       "    </tr>\n",
       "    <tr>\n",
       "      <th>2</th>\n",
       "      <td>Arizona</td>\n",
       "      <td>8321.0</td>\n",
       "      <td>45.9</td>\n",
       "      <td>(±2.4)</td>\n",
       "      <td>2009-10</td>\n",
       "    </tr>\n",
       "    <tr>\n",
       "      <th>3</th>\n",
       "      <td>Arkansas</td>\n",
       "      <td>5931.0</td>\n",
       "      <td>55.2</td>\n",
       "      <td>(±3.7)</td>\n",
       "      <td>2009-10</td>\n",
       "    </tr>\n",
       "    <tr>\n",
       "      <th>4</th>\n",
       "      <td>California</td>\n",
       "      <td>18039.0</td>\n",
       "      <td>45.4</td>\n",
       "      <td>(±1.4)</td>\n",
       "      <td>2009-10</td>\n",
       "    </tr>\n",
       "  </tbody>\n",
       "</table>\n",
       "</div>"
      ],
      "text/plain": [
       "       states   sample  percent_vacc      CI   season\n",
       "0     Alabama   9441.0          45.8  (±2.0)  2009-10\n",
       "1      Alaska   5058.0          45.1  (±3.2)  2009-10\n",
       "2     Arizona   8321.0          45.9  (±2.4)  2009-10\n",
       "3    Arkansas   5931.0          55.2  (±3.7)  2009-10\n",
       "4  California  18039.0          45.4  (±1.4)  2009-10"
      ]
     },
     "execution_count": 28,
     "metadata": {},
     "output_type": "execute_result"
    }
   ],
   "source": [
    "#Looking at the data after renaming columns.\n",
    "vacc_rate.head()"
   ]
  },
  {
   "cell_type": "code",
   "execution_count": 29,
   "metadata": {},
   "outputs": [],
   "source": [
    "#Reading Pneumonia and Influenza deaths dataset.\n",
    "pne_flu = pd.read_csv('data/Deaths_from_Pneumonia_and_Influenza__P_I__and_all_deaths__by_state_and_region__National_Center_For_Health_Statistics_Mortality_Surveillance_System.csv')"
   ]
  },
  {
   "cell_type": "code",
   "execution_count": 30,
   "metadata": {},
   "outputs": [
    {
     "data": {
      "text/html": [
       "<div>\n",
       "<style scoped>\n",
       "    .dataframe tbody tr th:only-of-type {\n",
       "        vertical-align: middle;\n",
       "    }\n",
       "\n",
       "    .dataframe tbody tr th {\n",
       "        vertical-align: top;\n",
       "    }\n",
       "\n",
       "    .dataframe thead th {\n",
       "        text-align: right;\n",
       "    }\n",
       "</style>\n",
       "<table border=\"1\" class=\"dataframe\">\n",
       "  <thead>\n",
       "    <tr style=\"text-align: right;\">\n",
       "      <th></th>\n",
       "      <th>geoid</th>\n",
       "      <th>Region</th>\n",
       "      <th>State</th>\n",
       "      <th>age</th>\n",
       "      <th>season</th>\n",
       "      <th>MMWR Year/Week</th>\n",
       "      <th>Deaths from influenza</th>\n",
       "      <th>Deaths from pneumonia</th>\n",
       "      <th>Deaths from pneumonia and influenza</th>\n",
       "      <th>All Deaths</th>\n",
       "      <th>Pecent of deaths due to pneumonia or influenza</th>\n",
       "      <th>pecent complete</th>\n",
       "    </tr>\n",
       "  </thead>\n",
       "  <tbody>\n",
       "    <tr>\n",
       "      <th>0</th>\n",
       "      <td>State</td>\n",
       "      <td>NaN</td>\n",
       "      <td>New Hampshire</td>\n",
       "      <td>All</td>\n",
       "      <td>2017-18</td>\n",
       "      <td>201805</td>\n",
       "      <td>NaN</td>\n",
       "      <td>NaN</td>\n",
       "      <td>28.0</td>\n",
       "      <td>286.0</td>\n",
       "      <td>9.790210</td>\n",
       "      <td>143.277643</td>\n",
       "    </tr>\n",
       "    <tr>\n",
       "      <th>1</th>\n",
       "      <td>State</td>\n",
       "      <td>NaN</td>\n",
       "      <td>New York City</td>\n",
       "      <td>All</td>\n",
       "      <td>2015-16</td>\n",
       "      <td>201629</td>\n",
       "      <td>NaN</td>\n",
       "      <td>NaN</td>\n",
       "      <td>64.0</td>\n",
       "      <td>972.0</td>\n",
       "      <td>6.584362</td>\n",
       "      <td>97.618498</td>\n",
       "    </tr>\n",
       "    <tr>\n",
       "      <th>2</th>\n",
       "      <td>State</td>\n",
       "      <td>NaN</td>\n",
       "      <td>Missouri</td>\n",
       "      <td>All</td>\n",
       "      <td>2009-10</td>\n",
       "      <td>201020</td>\n",
       "      <td>NaN</td>\n",
       "      <td>NaN</td>\n",
       "      <td>84.0</td>\n",
       "      <td>984.0</td>\n",
       "      <td>8.536585</td>\n",
       "      <td>93.231242</td>\n",
       "    </tr>\n",
       "    <tr>\n",
       "      <th>3</th>\n",
       "      <td>Region</td>\n",
       "      <td>3.0</td>\n",
       "      <td>NaN</td>\n",
       "      <td>All</td>\n",
       "      <td>2010-11</td>\n",
       "      <td>201134</td>\n",
       "      <td>0.0</td>\n",
       "      <td>280.0</td>\n",
       "      <td>280.0</td>\n",
       "      <td>4662.0</td>\n",
       "      <td>6.006006</td>\n",
       "      <td>92.565116</td>\n",
       "    </tr>\n",
       "    <tr>\n",
       "      <th>4</th>\n",
       "      <td>State</td>\n",
       "      <td>NaN</td>\n",
       "      <td>Kansas</td>\n",
       "      <td>All</td>\n",
       "      <td>2017-18</td>\n",
       "      <td>201820</td>\n",
       "      <td>NaN</td>\n",
       "      <td>NaN</td>\n",
       "      <td>19.0</td>\n",
       "      <td>496.0</td>\n",
       "      <td>3.830645</td>\n",
       "      <td>105.194581</td>\n",
       "    </tr>\n",
       "  </tbody>\n",
       "</table>\n",
       "</div>"
      ],
      "text/plain": [
       "    geoid  Region          State  age   season  MMWR Year/Week  \\\n",
       "0   State     NaN  New Hampshire  All  2017-18          201805   \n",
       "1   State     NaN  New York City  All  2015-16          201629   \n",
       "2   State     NaN       Missouri  All  2009-10          201020   \n",
       "3  Region     3.0            NaN  All  2010-11          201134   \n",
       "4   State     NaN         Kansas  All  2017-18          201820   \n",
       "\n",
       "   Deaths from influenza  Deaths from pneumonia  \\\n",
       "0                    NaN                    NaN   \n",
       "1                    NaN                    NaN   \n",
       "2                    NaN                    NaN   \n",
       "3                    0.0                  280.0   \n",
       "4                    NaN                    NaN   \n",
       "\n",
       "   Deaths from pneumonia and influenza  All Deaths  \\\n",
       "0                                 28.0       286.0   \n",
       "1                                 64.0       972.0   \n",
       "2                                 84.0       984.0   \n",
       "3                                280.0      4662.0   \n",
       "4                                 19.0       496.0   \n",
       "\n",
       "   Pecent of deaths due to pneumonia or influenza  pecent complete  \n",
       "0                                        9.790210       143.277643  \n",
       "1                                        6.584362        97.618498  \n",
       "2                                        8.536585        93.231242  \n",
       "3                                        6.006006        92.565116  \n",
       "4                                        3.830645       105.194581  "
      ]
     },
     "execution_count": 30,
     "metadata": {},
     "output_type": "execute_result"
    }
   ],
   "source": [
    "#Looking at the data\n",
    "pne_flu.head()"
   ]
  },
  {
   "cell_type": "code",
   "execution_count": 31,
   "metadata": {},
   "outputs": [],
   "source": [
    "#Dropping unnecessary columns.\n",
    "pne_flu = pne_flu.drop(['geoid', 'Region','age', 'MMWR Year/Week','Deaths from influenza','Deaths from pneumonia','pecent complete'], axis=1,)"
   ]
  },
  {
   "cell_type": "code",
   "execution_count": 32,
   "metadata": {},
   "outputs": [
    {
     "data": {
      "text/plain": [
       "Index(['State', 'season', 'Deaths from pneumonia and influenza', 'All Deaths',\n",
       "       'Pecent of deaths due to pneumonia or influenza'],\n",
       "      dtype='object')"
      ]
     },
     "execution_count": 32,
     "metadata": {},
     "output_type": "execute_result"
    }
   ],
   "source": [
    "#Looking at the columns.\n",
    "pne_flu.columns"
   ]
  },
  {
   "cell_type": "code",
   "execution_count": 33,
   "metadata": {},
   "outputs": [],
   "source": [
    "#Dropping NaN from State column.\n",
    "pne_flu = pne_flu.dropna(subset=['State'])"
   ]
  },
  {
   "cell_type": "code",
   "execution_count": 34,
   "metadata": {},
   "outputs": [],
   "source": [
    "#Renaming columns\n",
    "pne_flu = pne_flu.rename(columns = {'State': 'states', 'season':'season','Deaths from pneumonia and influenza':'deaths_pne_flu','All Deaths':'total_deaths','Pecent of deaths due to pneumonia or influenza':'percent_pne_flu'})"
   ]
  },
  {
   "cell_type": "code",
   "execution_count": 35,
   "metadata": {},
   "outputs": [
    {
     "data": {
      "text/html": [
       "<div>\n",
       "<style scoped>\n",
       "    .dataframe tbody tr th:only-of-type {\n",
       "        vertical-align: middle;\n",
       "    }\n",
       "\n",
       "    .dataframe tbody tr th {\n",
       "        vertical-align: top;\n",
       "    }\n",
       "\n",
       "    .dataframe thead th {\n",
       "        text-align: right;\n",
       "    }\n",
       "</style>\n",
       "<table border=\"1\" class=\"dataframe\">\n",
       "  <thead>\n",
       "    <tr style=\"text-align: right;\">\n",
       "      <th></th>\n",
       "      <th>states</th>\n",
       "      <th>season</th>\n",
       "      <th>deaths_pne_flu</th>\n",
       "      <th>total_deaths</th>\n",
       "      <th>percent_pne_flu</th>\n",
       "    </tr>\n",
       "  </thead>\n",
       "  <tbody>\n",
       "    <tr>\n",
       "      <th>0</th>\n",
       "      <td>New Hampshire</td>\n",
       "      <td>2017-18</td>\n",
       "      <td>28.0</td>\n",
       "      <td>286.0</td>\n",
       "      <td>9.790210</td>\n",
       "    </tr>\n",
       "    <tr>\n",
       "      <th>1</th>\n",
       "      <td>New York City</td>\n",
       "      <td>2015-16</td>\n",
       "      <td>64.0</td>\n",
       "      <td>972.0</td>\n",
       "      <td>6.584362</td>\n",
       "    </tr>\n",
       "    <tr>\n",
       "      <th>2</th>\n",
       "      <td>Missouri</td>\n",
       "      <td>2009-10</td>\n",
       "      <td>84.0</td>\n",
       "      <td>984.0</td>\n",
       "      <td>8.536585</td>\n",
       "    </tr>\n",
       "    <tr>\n",
       "      <th>4</th>\n",
       "      <td>Kansas</td>\n",
       "      <td>2017-18</td>\n",
       "      <td>19.0</td>\n",
       "      <td>496.0</td>\n",
       "      <td>3.830645</td>\n",
       "    </tr>\n",
       "    <tr>\n",
       "      <th>5</th>\n",
       "      <td>Georgia</td>\n",
       "      <td>2009-10</td>\n",
       "      <td>89.0</td>\n",
       "      <td>1283.0</td>\n",
       "      <td>6.936867</td>\n",
       "    </tr>\n",
       "  </tbody>\n",
       "</table>\n",
       "</div>"
      ],
      "text/plain": [
       "          states   season  deaths_pne_flu  total_deaths  percent_pne_flu\n",
       "0  New Hampshire  2017-18            28.0         286.0         9.790210\n",
       "1  New York City  2015-16            64.0         972.0         6.584362\n",
       "2       Missouri  2009-10            84.0         984.0         8.536585\n",
       "4         Kansas  2017-18            19.0         496.0         3.830645\n",
       "5        Georgia  2009-10            89.0        1283.0         6.936867"
      ]
     },
     "execution_count": 35,
     "metadata": {},
     "output_type": "execute_result"
    }
   ],
   "source": [
    "#Looking at the data after renaming columns.\n",
    "pne_flu.head()"
   ]
  },
  {
   "cell_type": "code",
   "execution_count": 36,
   "metadata": {},
   "outputs": [],
   "source": [
    "#Grouping by to get the total of all deaths in each season.\n",
    "pne_flu_total = pne_flu.groupby(['states', 'season']).sum()"
   ]
  },
  {
   "cell_type": "code",
   "execution_count": 37,
   "metadata": {},
   "outputs": [],
   "source": [
    "#Reseting index.\n",
    "pne_flu_total = pne_flu_total.reset_index()"
   ]
  },
  {
   "cell_type": "code",
   "execution_count": 38,
   "metadata": {},
   "outputs": [
    {
     "data": {
      "text/html": [
       "<div>\n",
       "<style scoped>\n",
       "    .dataframe tbody tr th:only-of-type {\n",
       "        vertical-align: middle;\n",
       "    }\n",
       "\n",
       "    .dataframe tbody tr th {\n",
       "        vertical-align: top;\n",
       "    }\n",
       "\n",
       "    .dataframe thead th {\n",
       "        text-align: right;\n",
       "    }\n",
       "</style>\n",
       "<table border=\"1\" class=\"dataframe\">\n",
       "  <thead>\n",
       "    <tr style=\"text-align: right;\">\n",
       "      <th></th>\n",
       "      <th>states</th>\n",
       "      <th>season</th>\n",
       "      <th>deaths_pne_flu</th>\n",
       "      <th>total_deaths</th>\n",
       "      <th>percent_pne_flu</th>\n",
       "    </tr>\n",
       "  </thead>\n",
       "  <tbody>\n",
       "    <tr>\n",
       "      <th>0</th>\n",
       "      <td>Alabama</td>\n",
       "      <td>2009-10</td>\n",
       "      <td>3450.0</td>\n",
       "      <td>47870.0</td>\n",
       "      <td>373.069397</td>\n",
       "    </tr>\n",
       "    <tr>\n",
       "      <th>1</th>\n",
       "      <td>Alabama</td>\n",
       "      <td>2010-11</td>\n",
       "      <td>3354.0</td>\n",
       "      <td>48459.0</td>\n",
       "      <td>357.156009</td>\n",
       "    </tr>\n",
       "    <tr>\n",
       "      <th>2</th>\n",
       "      <td>Alabama</td>\n",
       "      <td>2011-12</td>\n",
       "      <td>3289.0</td>\n",
       "      <td>48412.0</td>\n",
       "      <td>352.995444</td>\n",
       "    </tr>\n",
       "    <tr>\n",
       "      <th>3</th>\n",
       "      <td>Alabama</td>\n",
       "      <td>2012-13</td>\n",
       "      <td>3313.0</td>\n",
       "      <td>50132.0</td>\n",
       "      <td>338.629837</td>\n",
       "    </tr>\n",
       "    <tr>\n",
       "      <th>4</th>\n",
       "      <td>Alabama</td>\n",
       "      <td>2013-14</td>\n",
       "      <td>3207.0</td>\n",
       "      <td>49784.0</td>\n",
       "      <td>331.658926</td>\n",
       "    </tr>\n",
       "  </tbody>\n",
       "</table>\n",
       "</div>"
      ],
      "text/plain": [
       "    states   season  deaths_pne_flu  total_deaths  percent_pne_flu\n",
       "0  Alabama  2009-10          3450.0       47870.0       373.069397\n",
       "1  Alabama  2010-11          3354.0       48459.0       357.156009\n",
       "2  Alabama  2011-12          3289.0       48412.0       352.995444\n",
       "3  Alabama  2012-13          3313.0       50132.0       338.629837\n",
       "4  Alabama  2013-14          3207.0       49784.0       331.658926"
      ]
     },
     "execution_count": 38,
     "metadata": {},
     "output_type": "execute_result"
    }
   ],
   "source": [
    "#Looking at the data after groupby and reseting index.\n",
    "pne_flu_total.head()"
   ]
  },
  {
   "cell_type": "code",
   "execution_count": 39,
   "metadata": {},
   "outputs": [],
   "source": [
    "#droping column 'percent_pne-flu' as it added all percentage at the time of groupby.\n",
    "pne_flu_total = pne_flu_total.drop(columns = 'percent_pne_flu')"
   ]
  },
  {
   "cell_type": "code",
   "execution_count": 40,
   "metadata": {},
   "outputs": [],
   "source": [
    "#Craeting percentage column\n",
    "pne_flu_total['percent_pne_flu'] = pne_flu_total['deaths_pne_flu']/pne_flu_total['total_deaths']*100"
   ]
  },
  {
   "cell_type": "code",
   "execution_count": 41,
   "metadata": {},
   "outputs": [
    {
     "data": {
      "text/html": [
       "<div>\n",
       "<style scoped>\n",
       "    .dataframe tbody tr th:only-of-type {\n",
       "        vertical-align: middle;\n",
       "    }\n",
       "\n",
       "    .dataframe tbody tr th {\n",
       "        vertical-align: top;\n",
       "    }\n",
       "\n",
       "    .dataframe thead th {\n",
       "        text-align: right;\n",
       "    }\n",
       "</style>\n",
       "<table border=\"1\" class=\"dataframe\">\n",
       "  <thead>\n",
       "    <tr style=\"text-align: right;\">\n",
       "      <th></th>\n",
       "      <th>states</th>\n",
       "      <th>season</th>\n",
       "      <th>deaths_pne_flu</th>\n",
       "      <th>total_deaths</th>\n",
       "      <th>percent_pne_flu</th>\n",
       "    </tr>\n",
       "  </thead>\n",
       "  <tbody>\n",
       "    <tr>\n",
       "      <th>0</th>\n",
       "      <td>Alabama</td>\n",
       "      <td>2009-10</td>\n",
       "      <td>3450.0</td>\n",
       "      <td>47870.0</td>\n",
       "      <td>7.207019</td>\n",
       "    </tr>\n",
       "    <tr>\n",
       "      <th>1</th>\n",
       "      <td>Alabama</td>\n",
       "      <td>2010-11</td>\n",
       "      <td>3354.0</td>\n",
       "      <td>48459.0</td>\n",
       "      <td>6.921315</td>\n",
       "    </tr>\n",
       "    <tr>\n",
       "      <th>2</th>\n",
       "      <td>Alabama</td>\n",
       "      <td>2011-12</td>\n",
       "      <td>3289.0</td>\n",
       "      <td>48412.0</td>\n",
       "      <td>6.793770</td>\n",
       "    </tr>\n",
       "    <tr>\n",
       "      <th>3</th>\n",
       "      <td>Alabama</td>\n",
       "      <td>2012-13</td>\n",
       "      <td>3313.0</td>\n",
       "      <td>50132.0</td>\n",
       "      <td>6.608553</td>\n",
       "    </tr>\n",
       "    <tr>\n",
       "      <th>4</th>\n",
       "      <td>Alabama</td>\n",
       "      <td>2013-14</td>\n",
       "      <td>3207.0</td>\n",
       "      <td>49784.0</td>\n",
       "      <td>6.441829</td>\n",
       "    </tr>\n",
       "  </tbody>\n",
       "</table>\n",
       "</div>"
      ],
      "text/plain": [
       "    states   season  deaths_pne_flu  total_deaths  percent_pne_flu\n",
       "0  Alabama  2009-10          3450.0       47870.0         7.207019\n",
       "1  Alabama  2010-11          3354.0       48459.0         6.921315\n",
       "2  Alabama  2011-12          3289.0       48412.0         6.793770\n",
       "3  Alabama  2012-13          3313.0       50132.0         6.608553\n",
       "4  Alabama  2013-14          3207.0       49784.0         6.441829"
      ]
     },
     "execution_count": 41,
     "metadata": {},
     "output_type": "execute_result"
    }
   ],
   "source": [
    "#Looking at the clean data\n",
    "pne_flu_total.head()"
   ]
  },
  {
   "cell_type": "code",
   "execution_count": 42,
   "metadata": {},
   "outputs": [],
   "source": [
    "#Merging deaths and vaccine data.\n",
    "pne_flu_vacc = pne_flu_total.merge(vacc_rate)"
   ]
  },
  {
   "cell_type": "code",
   "execution_count": 43,
   "metadata": {},
   "outputs": [
    {
     "data": {
      "text/plain": [
       "(510, 8)"
      ]
     },
     "execution_count": 43,
     "metadata": {},
     "output_type": "execute_result"
    }
   ],
   "source": [
    "#Looking at the shape\n",
    "pne_flu_vacc.shape"
   ]
  },
  {
   "cell_type": "code",
   "execution_count": 44,
   "metadata": {},
   "outputs": [
    {
     "data": {
      "text/html": [
       "<div>\n",
       "<style scoped>\n",
       "    .dataframe tbody tr th:only-of-type {\n",
       "        vertical-align: middle;\n",
       "    }\n",
       "\n",
       "    .dataframe tbody tr th {\n",
       "        vertical-align: top;\n",
       "    }\n",
       "\n",
       "    .dataframe thead th {\n",
       "        text-align: right;\n",
       "    }\n",
       "</style>\n",
       "<table border=\"1\" class=\"dataframe\">\n",
       "  <thead>\n",
       "    <tr style=\"text-align: right;\">\n",
       "      <th></th>\n",
       "      <th>states</th>\n",
       "      <th>season</th>\n",
       "      <th>deaths_pne_flu</th>\n",
       "      <th>total_deaths</th>\n",
       "      <th>percent_pne_flu</th>\n",
       "      <th>sample</th>\n",
       "      <th>percent_vacc</th>\n",
       "      <th>CI</th>\n",
       "    </tr>\n",
       "  </thead>\n",
       "  <tbody>\n",
       "    <tr>\n",
       "      <th>0</th>\n",
       "      <td>Alabama</td>\n",
       "      <td>2009-10</td>\n",
       "      <td>3450.0</td>\n",
       "      <td>47870.0</td>\n",
       "      <td>7.207019</td>\n",
       "      <td>9441.0</td>\n",
       "      <td>45.8</td>\n",
       "      <td>(±2.0)</td>\n",
       "    </tr>\n",
       "    <tr>\n",
       "      <th>1</th>\n",
       "      <td>Alabama</td>\n",
       "      <td>2010-11</td>\n",
       "      <td>3354.0</td>\n",
       "      <td>48459.0</td>\n",
       "      <td>6.921315</td>\n",
       "      <td>8221.0</td>\n",
       "      <td>42.4</td>\n",
       "      <td>(±2.3)</td>\n",
       "    </tr>\n",
       "    <tr>\n",
       "      <th>2</th>\n",
       "      <td>Alabama</td>\n",
       "      <td>2011-12</td>\n",
       "      <td>3289.0</td>\n",
       "      <td>48412.0</td>\n",
       "      <td>6.793770</td>\n",
       "      <td>8598.0</td>\n",
       "      <td>41.6</td>\n",
       "      <td>(±1.9)</td>\n",
       "    </tr>\n",
       "    <tr>\n",
       "      <th>3</th>\n",
       "      <td>Alabama</td>\n",
       "      <td>2012-13</td>\n",
       "      <td>3313.0</td>\n",
       "      <td>50132.0</td>\n",
       "      <td>6.608553</td>\n",
       "      <td>7292.0</td>\n",
       "      <td>45.7</td>\n",
       "      <td>(±2.3)</td>\n",
       "    </tr>\n",
       "    <tr>\n",
       "      <th>4</th>\n",
       "      <td>Alabama</td>\n",
       "      <td>2013-14</td>\n",
       "      <td>3207.0</td>\n",
       "      <td>49784.0</td>\n",
       "      <td>6.441829</td>\n",
       "      <td>8678.0</td>\n",
       "      <td>48.3</td>\n",
       "      <td>(±2.3)</td>\n",
       "    </tr>\n",
       "  </tbody>\n",
       "</table>\n",
       "</div>"
      ],
      "text/plain": [
       "    states   season  deaths_pne_flu  total_deaths  percent_pne_flu  sample  \\\n",
       "0  Alabama  2009-10          3450.0       47870.0         7.207019  9441.0   \n",
       "1  Alabama  2010-11          3354.0       48459.0         6.921315  8221.0   \n",
       "2  Alabama  2011-12          3289.0       48412.0         6.793770  8598.0   \n",
       "3  Alabama  2012-13          3313.0       50132.0         6.608553  7292.0   \n",
       "4  Alabama  2013-14          3207.0       49784.0         6.441829  8678.0   \n",
       "\n",
       "   percent_vacc      CI  \n",
       "0          45.8  (±2.0)  \n",
       "1          42.4  (±2.3)  \n",
       "2          41.6  (±1.9)  \n",
       "3          45.7  (±2.3)  \n",
       "4          48.3  (±2.3)  "
      ]
     },
     "execution_count": 44,
     "metadata": {},
     "output_type": "execute_result"
    }
   ],
   "source": [
    "#Looking at the data after merge.\n",
    "pne_flu_vacc.head()"
   ]
  },
  {
   "cell_type": "code",
   "execution_count": 45,
   "metadata": {},
   "outputs": [],
   "source": [
    "#Saving clean data to start exploring in R\n",
    "pne_flu_vacc.to_csv('data/pne_flu_vacc.csv', index = False)"
   ]
  },
  {
   "cell_type": "markdown",
   "metadata": {},
   "source": [
    "Some Checkings to get these data clean...\n",
    "#pne_flu[pne_flu['State'].isna()]\n",
    "#pne_flu['Pecent of deaths due to pneumonia or influenza'].isnull().sum()\n",
    "#pne_flu['Pecent of deaths due to pneumonia or influenza'].unique()\n",
    "#pne_flu[pne_flu['states'] == 'California']\n",
    "#pne_flu_vacc.groupby('states')['season'].value_counts()\n",
    "#test = pne_flu_vacc.groupby(['states', 'season']).sum()\n",
    "#pne_flu['State'][3]\n",
    "#vacc_rate.n.value_counts()\n",
    "#vacc_rate.isnull().sum()\n",
    "#vacc_rate.duplicated()\n",
    "#vacc_rate[vacc_rate['n'] == 'NR0NR']\n",
    "#vacc_rate[vacc_rate['states'] == 'District of Columbia']\n",
    "#vacc_rate[vacc_rate['CI'] == 'NR']\n",
    "#vacc_rate['CI'].unique()"
   ]
  }
 ],
 "metadata": {
  "kernelspec": {
   "display_name": "Python 3",
   "language": "python",
   "name": "python3"
  },
  "language_info": {
   "codemirror_mode": {
    "name": "ipython",
    "version": 3
   },
   "file_extension": ".py",
   "mimetype": "text/x-python",
   "name": "python",
   "nbconvert_exporter": "python",
   "pygments_lexer": "ipython3",
   "version": "3.7.3"
  }
 },
 "nbformat": 4,
 "nbformat_minor": 2
}
