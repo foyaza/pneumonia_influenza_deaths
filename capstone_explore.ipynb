{
 "cells": [
  {
   "cell_type": "code",
   "execution_count": 1,
   "metadata": {},
   "outputs": [],
   "source": [
    "import pandas as pd\n",
    "import numpy as np"
   ]
  },
  {
   "cell_type": "code",
   "execution_count": 2,
   "metadata": {},
   "outputs": [],
   "source": [
    "vacc_09_10 = pd.read_csv('data/2009-10 vaccination_coverage.txt')"
   ]
  },
  {
   "cell_type": "code",
   "execution_count": 3,
   "metadata": {},
   "outputs": [
    {
     "data": {
      "text/html": [
       "<div>\n",
       "<style scoped>\n",
       "    .dataframe tbody tr th:only-of-type {\n",
       "        vertical-align: middle;\n",
       "    }\n",
       "\n",
       "    .dataframe tbody tr th {\n",
       "        vertical-align: top;\n",
       "    }\n",
       "\n",
       "    .dataframe thead th {\n",
       "        text-align: right;\n",
       "    }\n",
       "</style>\n",
       "<table border=\"1\" class=\"dataframe\">\n",
       "  <thead>\n",
       "    <tr style=\"text-align: right;\">\n",
       "      <th></th>\n",
       "      <th>States</th>\n",
       "      <th>n</th>\n",
       "      <th>%</th>\n",
       "      <th>CI</th>\n",
       "    </tr>\n",
       "  </thead>\n",
       "  <tbody>\n",
       "    <tr>\n",
       "      <th>Alabama</th>\n",
       "      <td>9</td>\n",
       "      <td>441</td>\n",
       "      <td>45.8</td>\n",
       "      <td>(±2.0)</td>\n",
       "    </tr>\n",
       "    <tr>\n",
       "      <th>Alaska</th>\n",
       "      <td>5</td>\n",
       "      <td>58</td>\n",
       "      <td>45.1</td>\n",
       "      <td>(±3.2)</td>\n",
       "    </tr>\n",
       "    <tr>\n",
       "      <th>Arizona</th>\n",
       "      <td>8</td>\n",
       "      <td>321</td>\n",
       "      <td>45.9</td>\n",
       "      <td>(±2.4)</td>\n",
       "    </tr>\n",
       "    <tr>\n",
       "      <th>Arkansas</th>\n",
       "      <td>5</td>\n",
       "      <td>931</td>\n",
       "      <td>55.2</td>\n",
       "      <td>(±3.7)</td>\n",
       "    </tr>\n",
       "    <tr>\n",
       "      <th>California</th>\n",
       "      <td>18</td>\n",
       "      <td>39</td>\n",
       "      <td>45.4</td>\n",
       "      <td>(±1.4)</td>\n",
       "    </tr>\n",
       "  </tbody>\n",
       "</table>\n",
       "</div>"
      ],
      "text/plain": [
       "            States    n     %      CI\n",
       "Alabama          9  441  45.8  (±2.0)\n",
       "Alaska           5   58  45.1  (±3.2)\n",
       "Arizona          8  321  45.9  (±2.4)\n",
       "Arkansas         5  931  55.2  (±3.7)\n",
       "California      18   39  45.4  (±1.4)"
      ]
     },
     "execution_count": 3,
     "metadata": {},
     "output_type": "execute_result"
    }
   ],
   "source": [
    "vacc_09_10.head()"
   ]
  },
  {
   "cell_type": "code",
   "execution_count": 4,
   "metadata": {},
   "outputs": [
    {
     "data": {
      "text/plain": [
       "dtype('int64')"
      ]
     },
     "execution_count": 4,
     "metadata": {},
     "output_type": "execute_result"
    }
   ],
   "source": [
    "vacc_09_10['States'].dtype"
   ]
  },
  {
   "cell_type": "code",
   "execution_count": 5,
   "metadata": {},
   "outputs": [],
   "source": [
    "vacc_09_10.States = vacc_09_10.States.astype(str)\n",
    "vacc_09_10.n = vacc_09_10.n.astype(str)"
   ]
  },
  {
   "cell_type": "code",
   "execution_count": 6,
   "metadata": {},
   "outputs": [],
   "source": [
    "vacc_09_10['n'] = vacc_09_10['n'].str.zfill(3)"
   ]
  },
  {
   "cell_type": "code",
   "execution_count": 7,
   "metadata": {},
   "outputs": [
    {
     "data": {
      "text/html": [
       "<div>\n",
       "<style scoped>\n",
       "    .dataframe tbody tr th:only-of-type {\n",
       "        vertical-align: middle;\n",
       "    }\n",
       "\n",
       "    .dataframe tbody tr th {\n",
       "        vertical-align: top;\n",
       "    }\n",
       "\n",
       "    .dataframe thead th {\n",
       "        text-align: right;\n",
       "    }\n",
       "</style>\n",
       "<table border=\"1\" class=\"dataframe\">\n",
       "  <thead>\n",
       "    <tr style=\"text-align: right;\">\n",
       "      <th></th>\n",
       "      <th>States</th>\n",
       "      <th>n</th>\n",
       "      <th>%</th>\n",
       "      <th>CI</th>\n",
       "    </tr>\n",
       "  </thead>\n",
       "  <tbody>\n",
       "    <tr>\n",
       "      <th>Alabama</th>\n",
       "      <td>9</td>\n",
       "      <td>441</td>\n",
       "      <td>45.8</td>\n",
       "      <td>(±2.0)</td>\n",
       "    </tr>\n",
       "    <tr>\n",
       "      <th>Alaska</th>\n",
       "      <td>5</td>\n",
       "      <td>058</td>\n",
       "      <td>45.1</td>\n",
       "      <td>(±3.2)</td>\n",
       "    </tr>\n",
       "    <tr>\n",
       "      <th>Arizona</th>\n",
       "      <td>8</td>\n",
       "      <td>321</td>\n",
       "      <td>45.9</td>\n",
       "      <td>(±2.4)</td>\n",
       "    </tr>\n",
       "    <tr>\n",
       "      <th>Arkansas</th>\n",
       "      <td>5</td>\n",
       "      <td>931</td>\n",
       "      <td>55.2</td>\n",
       "      <td>(±3.7)</td>\n",
       "    </tr>\n",
       "    <tr>\n",
       "      <th>California</th>\n",
       "      <td>18</td>\n",
       "      <td>039</td>\n",
       "      <td>45.4</td>\n",
       "      <td>(±1.4)</td>\n",
       "    </tr>\n",
       "  </tbody>\n",
       "</table>\n",
       "</div>"
      ],
      "text/plain": [
       "           States    n     %      CI\n",
       "Alabama         9  441  45.8  (±2.0)\n",
       "Alaska          5  058  45.1  (±3.2)\n",
       "Arizona         8  321  45.9  (±2.4)\n",
       "Arkansas        5  931  55.2  (±3.7)\n",
       "California     18  039  45.4  (±1.4)"
      ]
     },
     "execution_count": 7,
     "metadata": {},
     "output_type": "execute_result"
    }
   ],
   "source": [
    "vacc_09_10.head()"
   ]
  },
  {
   "cell_type": "code",
   "execution_count": 8,
   "metadata": {},
   "outputs": [],
   "source": [
    "vacc_09_10['n'] = vacc_09_10['States'] + vacc_09_10['n']"
   ]
  },
  {
   "cell_type": "code",
   "execution_count": 9,
   "metadata": {},
   "outputs": [
    {
     "data": {
      "text/html": [
       "<div>\n",
       "<style scoped>\n",
       "    .dataframe tbody tr th:only-of-type {\n",
       "        vertical-align: middle;\n",
       "    }\n",
       "\n",
       "    .dataframe tbody tr th {\n",
       "        vertical-align: top;\n",
       "    }\n",
       "\n",
       "    .dataframe thead th {\n",
       "        text-align: right;\n",
       "    }\n",
       "</style>\n",
       "<table border=\"1\" class=\"dataframe\">\n",
       "  <thead>\n",
       "    <tr style=\"text-align: right;\">\n",
       "      <th></th>\n",
       "      <th>States</th>\n",
       "      <th>n</th>\n",
       "      <th>%</th>\n",
       "      <th>CI</th>\n",
       "    </tr>\n",
       "  </thead>\n",
       "  <tbody>\n",
       "    <tr>\n",
       "      <th>Alabama</th>\n",
       "      <td>9</td>\n",
       "      <td>9441</td>\n",
       "      <td>45.8</td>\n",
       "      <td>(±2.0)</td>\n",
       "    </tr>\n",
       "    <tr>\n",
       "      <th>Alaska</th>\n",
       "      <td>5</td>\n",
       "      <td>5058</td>\n",
       "      <td>45.1</td>\n",
       "      <td>(±3.2)</td>\n",
       "    </tr>\n",
       "    <tr>\n",
       "      <th>Arizona</th>\n",
       "      <td>8</td>\n",
       "      <td>8321</td>\n",
       "      <td>45.9</td>\n",
       "      <td>(±2.4)</td>\n",
       "    </tr>\n",
       "    <tr>\n",
       "      <th>Arkansas</th>\n",
       "      <td>5</td>\n",
       "      <td>5931</td>\n",
       "      <td>55.2</td>\n",
       "      <td>(±3.7)</td>\n",
       "    </tr>\n",
       "    <tr>\n",
       "      <th>California</th>\n",
       "      <td>18</td>\n",
       "      <td>18039</td>\n",
       "      <td>45.4</td>\n",
       "      <td>(±1.4)</td>\n",
       "    </tr>\n",
       "  </tbody>\n",
       "</table>\n",
       "</div>"
      ],
      "text/plain": [
       "           States      n     %      CI\n",
       "Alabama         9   9441  45.8  (±2.0)\n",
       "Alaska          5   5058  45.1  (±3.2)\n",
       "Arizona         8   8321  45.9  (±2.4)\n",
       "Arkansas        5   5931  55.2  (±3.7)\n",
       "California     18  18039  45.4  (±1.4)"
      ]
     },
     "execution_count": 9,
     "metadata": {},
     "output_type": "execute_result"
    }
   ],
   "source": [
    "vacc_09_10.head()"
   ]
  },
  {
   "cell_type": "code",
   "execution_count": 10,
   "metadata": {},
   "outputs": [],
   "source": [
    "vacc_09_10 = vacc_09_10.drop(columns = 'States')\n",
    "#vacc_09_10.reset_index()\n",
    "#vacc_09_10.rename(columns = {'index': 'states'})"
   ]
  },
  {
   "cell_type": "code",
   "execution_count": 11,
   "metadata": {},
   "outputs": [],
   "source": [
    "vacc_09_10 = vacc_09_10.reset_index()"
   ]
  },
  {
   "cell_type": "code",
   "execution_count": 12,
   "metadata": {},
   "outputs": [],
   "source": [
    "vacc_09_10 = vacc_09_10.rename(columns = {'index': 'states'})"
   ]
  },
  {
   "cell_type": "code",
   "execution_count": 13,
   "metadata": {},
   "outputs": [],
   "source": [
    "vacc_09_10['season'] = '2009-10'"
   ]
  },
  {
   "cell_type": "code",
   "execution_count": 14,
   "metadata": {},
   "outputs": [
    {
     "data": {
      "text/html": [
       "<div>\n",
       "<style scoped>\n",
       "    .dataframe tbody tr th:only-of-type {\n",
       "        vertical-align: middle;\n",
       "    }\n",
       "\n",
       "    .dataframe tbody tr th {\n",
       "        vertical-align: top;\n",
       "    }\n",
       "\n",
       "    .dataframe thead th {\n",
       "        text-align: right;\n",
       "    }\n",
       "</style>\n",
       "<table border=\"1\" class=\"dataframe\">\n",
       "  <thead>\n",
       "    <tr style=\"text-align: right;\">\n",
       "      <th></th>\n",
       "      <th>states</th>\n",
       "      <th>n</th>\n",
       "      <th>%</th>\n",
       "      <th>CI</th>\n",
       "      <th>season</th>\n",
       "    </tr>\n",
       "  </thead>\n",
       "  <tbody>\n",
       "    <tr>\n",
       "      <th>0</th>\n",
       "      <td>Alabama</td>\n",
       "      <td>9441</td>\n",
       "      <td>45.8</td>\n",
       "      <td>(±2.0)</td>\n",
       "      <td>2009-10</td>\n",
       "    </tr>\n",
       "    <tr>\n",
       "      <th>1</th>\n",
       "      <td>Alaska</td>\n",
       "      <td>5058</td>\n",
       "      <td>45.1</td>\n",
       "      <td>(±3.2)</td>\n",
       "      <td>2009-10</td>\n",
       "    </tr>\n",
       "    <tr>\n",
       "      <th>2</th>\n",
       "      <td>Arizona</td>\n",
       "      <td>8321</td>\n",
       "      <td>45.9</td>\n",
       "      <td>(±2.4)</td>\n",
       "      <td>2009-10</td>\n",
       "    </tr>\n",
       "    <tr>\n",
       "      <th>3</th>\n",
       "      <td>Arkansas</td>\n",
       "      <td>5931</td>\n",
       "      <td>55.2</td>\n",
       "      <td>(±3.7)</td>\n",
       "      <td>2009-10</td>\n",
       "    </tr>\n",
       "    <tr>\n",
       "      <th>4</th>\n",
       "      <td>California</td>\n",
       "      <td>18039</td>\n",
       "      <td>45.4</td>\n",
       "      <td>(±1.4)</td>\n",
       "      <td>2009-10</td>\n",
       "    </tr>\n",
       "  </tbody>\n",
       "</table>\n",
       "</div>"
      ],
      "text/plain": [
       "       states      n     %      CI   season\n",
       "0     Alabama   9441  45.8  (±2.0)  2009-10\n",
       "1      Alaska   5058  45.1  (±3.2)  2009-10\n",
       "2     Arizona   8321  45.9  (±2.4)  2009-10\n",
       "3    Arkansas   5931  55.2  (±3.7)  2009-10\n",
       "4  California  18039  45.4  (±1.4)  2009-10"
      ]
     },
     "execution_count": 14,
     "metadata": {},
     "output_type": "execute_result"
    }
   ],
   "source": [
    "vacc_09_10.head()"
   ]
  },
  {
   "cell_type": "code",
   "execution_count": 15,
   "metadata": {},
   "outputs": [],
   "source": [
    "vacc_10_11 = pd.read_csv('data/2010-11 vaccination_coverage.txt')\n",
    "vacc_11_12 = pd.read_csv('data/2011-12 vaccination_coverage.txt')\n",
    "vacc_12_13 = pd.read_csv('data/2012-13 vaccination_coverage.txt')\n",
    "vacc_13_14 = pd.read_csv('data/2013-14 vaccination_coverage.txt')\n",
    "vacc_14_15 = pd.read_csv('data/2014-15 vaccination_coverage.txt')\n",
    "vacc_15_16 = pd.read_csv('data/2015-16 vaccination_coverage.txt')\n",
    "vacc_16_17 = pd.read_csv('data/2016-17 vaccination_coverage.txt')\n",
    "vacc_17_18 = pd.read_csv('data/2017-18 vaccination_coverage.txt')\n",
    "vacc_18_19 = pd.read_csv('data/2018-19 vaccination_coverage.txt')"
   ]
  },
  {
   "cell_type": "code",
   "execution_count": 16,
   "metadata": {},
   "outputs": [],
   "source": [
    "vacc_10_11.States = vacc_10_11.States.astype(str)\n",
    "vacc_10_11.n = vacc_10_11.n.astype(str)\n",
    "vacc_11_12.States = vacc_11_12.States.astype(str)\n",
    "vacc_11_12.n = vacc_11_12.n.astype(str)\n",
    "vacc_12_13.States = vacc_12_13.States.astype(str)\n",
    "vacc_12_13.n = vacc_12_13.n.astype(str)\n",
    "vacc_13_14.States = vacc_13_14.States.astype(str)\n",
    "vacc_13_14.n = vacc_13_14.n.astype(str)\n",
    "vacc_14_15.States = vacc_14_15.States.astype(str)\n",
    "vacc_14_15.n = vacc_14_15.n.astype(str)\n",
    "vacc_15_16.States = vacc_15_16.States.astype(str)\n",
    "vacc_15_16.n = vacc_15_16.n.astype(str)\n",
    "vacc_16_17.States = vacc_16_17.States.astype(str)\n",
    "vacc_16_17.n = vacc_16_17.n.astype(str)\n",
    "vacc_17_18.States = vacc_17_18.States.astype(str)\n",
    "vacc_17_18.n = vacc_17_18.n.astype(str)\n",
    "vacc_18_19.States = vacc_18_19.States.astype(str)\n",
    "vacc_18_19.n = vacc_18_19.n.astype(str)"
   ]
  },
  {
   "cell_type": "code",
   "execution_count": 17,
   "metadata": {},
   "outputs": [],
   "source": [
    "vacc_10_11['n'] = vacc_10_11['n'].str.zfill(3)\n",
    "vacc_11_12['n'] = vacc_11_12['n'].str.zfill(3)\n",
    "vacc_12_13['n'] = vacc_12_13['n'].str.zfill(3)\n",
    "vacc_13_14['n'] = vacc_13_14['n'].str.zfill(3)\n",
    "vacc_14_15['n'] = vacc_14_15['n'].str.zfill(3)\n",
    "vacc_15_16['n'] = vacc_15_16['n'].str.zfill(3)\n",
    "vacc_16_17['n'] = vacc_16_17['n'].str.zfill(3)\n",
    "vacc_17_18['n'] = vacc_17_18['n'].str.zfill(3)\n",
    "vacc_18_19['n'] = vacc_18_19['n'].str.zfill(3)"
   ]
  },
  {
   "cell_type": "code",
   "execution_count": 18,
   "metadata": {},
   "outputs": [],
   "source": [
    "vacc_10_11['n'] = vacc_10_11['States'] + vacc_10_11['n']\n",
    "vacc_11_12['n'] = vacc_11_12['States'] + vacc_11_12['n']\n",
    "vacc_12_13['n'] = vacc_12_13['States'] + vacc_12_13['n']\n",
    "vacc_13_14['n'] = vacc_13_14['States'] + vacc_13_14['n']\n",
    "vacc_14_15['n'] = vacc_14_15['States'] + vacc_14_15['n']\n",
    "vacc_15_16['n'] = vacc_15_16['States'] + vacc_15_16['n']\n",
    "vacc_16_17['n'] = vacc_16_17['States'] + vacc_16_17['n']\n",
    "vacc_17_18['n'] = vacc_17_18['States'] + vacc_17_18['n']\n",
    "vacc_18_19['n'] = vacc_18_19['States'] + vacc_18_19['n']"
   ]
  },
  {
   "cell_type": "code",
   "execution_count": 19,
   "metadata": {},
   "outputs": [],
   "source": [
    "vacc_10_11 = vacc_10_11.drop(columns = 'States')\n",
    "vacc_11_12 = vacc_11_12.drop(columns = 'States')\n",
    "vacc_12_13 = vacc_12_13.drop(columns = 'States')\n",
    "vacc_13_14 = vacc_13_14.drop(columns = 'States')\n",
    "vacc_14_15 = vacc_14_15.drop(columns = 'States')\n",
    "vacc_15_16 = vacc_15_16.drop(columns = 'States')\n",
    "vacc_16_17 = vacc_16_17.drop(columns = 'States')\n",
    "vacc_17_18 = vacc_17_18.drop(columns = 'States')\n",
    "vacc_18_19 = vacc_18_19.drop(columns = 'States')"
   ]
  },
  {
   "cell_type": "code",
   "execution_count": 20,
   "metadata": {},
   "outputs": [],
   "source": [
    "vacc_10_11 = vacc_10_11.reset_index()\n",
    "vacc_11_12 = vacc_11_12.reset_index()\n",
    "vacc_12_13 = vacc_12_13.reset_index()\n",
    "vacc_13_14 = vacc_13_14.reset_index()\n",
    "vacc_14_15 = vacc_14_15.reset_index()\n",
    "vacc_15_16 = vacc_15_16.reset_index()\n",
    "vacc_16_17 = vacc_16_17.reset_index()\n",
    "vacc_17_18 = vacc_17_18.reset_index()\n",
    "vacc_18_19 = vacc_18_19.reset_index()"
   ]
  },
  {
   "cell_type": "code",
   "execution_count": 21,
   "metadata": {},
   "outputs": [],
   "source": [
    "vacc_10_11 = vacc_10_11.rename(columns = {'index': 'states'})\n",
    "vacc_11_12 = vacc_11_12.rename(columns = {'index': 'states'})\n",
    "vacc_12_13 = vacc_12_13.rename(columns = {'index': 'states'})\n",
    "vacc_13_14 = vacc_13_14.rename(columns = {'index': 'states'})\n",
    "vacc_14_15 = vacc_14_15.rename(columns = {'index': 'states'})\n",
    "vacc_15_16 = vacc_15_16.rename(columns = {'index': 'states'})\n",
    "vacc_16_17 = vacc_16_17.rename(columns = {'index': 'states'})\n",
    "vacc_17_18 = vacc_17_18.rename(columns = {'index': 'states'})\n",
    "vacc_18_19 = vacc_18_19.rename(columns = {'index': 'states'})"
   ]
  },
  {
   "cell_type": "code",
   "execution_count": 22,
   "metadata": {},
   "outputs": [],
   "source": [
    "vacc_10_11['season'] = '2010-11'\n",
    "vacc_11_12['season'] = '2011-12'\n",
    "vacc_12_13['season'] = '2012-13'\n",
    "vacc_13_14['season'] = '2013-14'\n",
    "vacc_14_15['season'] = '2014-15'\n",
    "vacc_15_16['season'] = '2015-16'\n",
    "vacc_16_17['season'] = '2016-17'\n",
    "vacc_17_18['season'] = '2017-18'\n",
    "vacc_18_19['season'] = '2018-19'"
   ]
  },
  {
   "cell_type": "code",
   "execution_count": 23,
   "metadata": {},
   "outputs": [
    {
     "data": {
      "text/html": [
       "<div>\n",
       "<style scoped>\n",
       "    .dataframe tbody tr th:only-of-type {\n",
       "        vertical-align: middle;\n",
       "    }\n",
       "\n",
       "    .dataframe tbody tr th {\n",
       "        vertical-align: top;\n",
       "    }\n",
       "\n",
       "    .dataframe thead th {\n",
       "        text-align: right;\n",
       "    }\n",
       "</style>\n",
       "<table border=\"1\" class=\"dataframe\">\n",
       "  <thead>\n",
       "    <tr style=\"text-align: right;\">\n",
       "      <th></th>\n",
       "      <th>states</th>\n",
       "      <th>n</th>\n",
       "      <th>%</th>\n",
       "      <th>CI</th>\n",
       "      <th>season</th>\n",
       "    </tr>\n",
       "  </thead>\n",
       "  <tbody>\n",
       "    <tr>\n",
       "      <th>0</th>\n",
       "      <td>Alabama</td>\n",
       "      <td>7966</td>\n",
       "      <td>48.3</td>\n",
       "      <td>(±2.0)</td>\n",
       "      <td>2018-19</td>\n",
       "    </tr>\n",
       "    <tr>\n",
       "      <th>1</th>\n",
       "      <td>Alaska</td>\n",
       "      <td>4169</td>\n",
       "      <td>44.1</td>\n",
       "      <td>(±3.3)</td>\n",
       "      <td>2018-19</td>\n",
       "    </tr>\n",
       "    <tr>\n",
       "      <th>2</th>\n",
       "      <td>Arizona</td>\n",
       "      <td>8714</td>\n",
       "      <td>45.6</td>\n",
       "      <td>(±2.1)</td>\n",
       "      <td>2018-19</td>\n",
       "    </tr>\n",
       "    <tr>\n",
       "      <th>3</th>\n",
       "      <td>Arkansas</td>\n",
       "      <td>5247</td>\n",
       "      <td>48.8</td>\n",
       "      <td>(±2.5)</td>\n",
       "      <td>2018-19</td>\n",
       "    </tr>\n",
       "    <tr>\n",
       "      <th>4</th>\n",
       "      <td>California</td>\n",
       "      <td>9857</td>\n",
       "      <td>47.4</td>\n",
       "      <td>(±1.6)</td>\n",
       "      <td>2018-19</td>\n",
       "    </tr>\n",
       "  </tbody>\n",
       "</table>\n",
       "</div>"
      ],
      "text/plain": [
       "       states     n     %      CI   season\n",
       "0     Alabama  7966  48.3  (±2.0)  2018-19\n",
       "1      Alaska  4169  44.1  (±3.3)  2018-19\n",
       "2     Arizona  8714  45.6  (±2.1)  2018-19\n",
       "3    Arkansas  5247  48.8  (±2.5)  2018-19\n",
       "4  California  9857  47.4  (±1.6)  2018-19"
      ]
     },
     "execution_count": 23,
     "metadata": {},
     "output_type": "execute_result"
    }
   ],
   "source": [
    "vacc_18_19.head()"
   ]
  },
  {
   "cell_type": "code",
   "execution_count": 29,
   "metadata": {},
   "outputs": [],
   "source": [
    "vacc_rate = vacc_09_10.append(vacc_10_11).append(vacc_11_12).append(vacc_12_13).append(vacc_13_14).append(vacc_14_15).append(vacc_15_16).append(vacc_16_17).append(vacc_17_18).append(vacc_18_19)"
   ]
  },
  {
   "cell_type": "code",
   "execution_count": 30,
   "metadata": {},
   "outputs": [],
   "source": [
    "vacc_rate = vacc_rate.reset_index(drop = True)"
   ]
  },
  {
   "cell_type": "code",
   "execution_count": 26,
   "metadata": {},
   "outputs": [],
   "source": [
    "#vacc_rate.n = vacc_rate.astype(int, errors = 'ignore')"
   ]
  },
  {
   "cell_type": "code",
   "execution_count": 27,
   "metadata": {},
   "outputs": [
    {
     "name": "stdout",
     "output_type": "stream",
     "text": [
      "<class 'pandas.core.frame.DataFrame'>\n",
      "RangeIndex: 510 entries, 0 to 509\n",
      "Data columns (total 5 columns):\n",
      "states    510 non-null object\n",
      "n         510 non-null object\n",
      "%         510 non-null object\n",
      "CI        508 non-null object\n",
      "season    510 non-null object\n",
      "dtypes: object(5)\n",
      "memory usage: 20.0+ KB\n"
     ]
    }
   ],
   "source": [
    "vacc_rate.info()"
   ]
  },
  {
   "cell_type": "code",
   "execution_count": 31,
   "metadata": {},
   "outputs": [
    {
     "data": {
      "text/html": [
       "<div>\n",
       "<style scoped>\n",
       "    .dataframe tbody tr th:only-of-type {\n",
       "        vertical-align: middle;\n",
       "    }\n",
       "\n",
       "    .dataframe tbody tr th {\n",
       "        vertical-align: top;\n",
       "    }\n",
       "\n",
       "    .dataframe thead th {\n",
       "        text-align: right;\n",
       "    }\n",
       "</style>\n",
       "<table border=\"1\" class=\"dataframe\">\n",
       "  <thead>\n",
       "    <tr style=\"text-align: right;\">\n",
       "      <th></th>\n",
       "      <th>states</th>\n",
       "      <th>n</th>\n",
       "      <th>%</th>\n",
       "      <th>CI</th>\n",
       "      <th>season</th>\n",
       "    </tr>\n",
       "  </thead>\n",
       "  <tbody>\n",
       "    <tr>\n",
       "      <th>208</th>\n",
       "      <td>California</td>\n",
       "      <td>5854</td>\n",
       "      <td>NR</td>\n",
       "      <td>NR</td>\n",
       "      <td>2013-14</td>\n",
       "    </tr>\n",
       "    <tr>\n",
       "      <th>228</th>\n",
       "      <td>Mississippi</td>\n",
       "      <td>5768</td>\n",
       "      <td>NR</td>\n",
       "      <td>NR</td>\n",
       "      <td>2013-14</td>\n",
       "    </tr>\n",
       "    <tr>\n",
       "      <th>416</th>\n",
       "      <td>District of Columbia</td>\n",
       "      <td>4122</td>\n",
       "      <td>NR</td>\n",
       "      <td>NR</td>\n",
       "      <td>2017-18</td>\n",
       "    </tr>\n",
       "    <tr>\n",
       "      <th>467</th>\n",
       "      <td>District of Columbia</td>\n",
       "      <td>NR0NR</td>\n",
       "      <td>NR</td>\n",
       "      <td>NaN</td>\n",
       "      <td>2018-19</td>\n",
       "    </tr>\n",
       "    <tr>\n",
       "      <th>489</th>\n",
       "      <td>New Jersey</td>\n",
       "      <td>NR0NR</td>\n",
       "      <td>NR</td>\n",
       "      <td>NaN</td>\n",
       "      <td>2018-19</td>\n",
       "    </tr>\n",
       "  </tbody>\n",
       "</table>\n",
       "</div>"
      ],
      "text/plain": [
       "                   states      n   %   CI   season\n",
       "208            California   5854  NR   NR  2013-14\n",
       "228           Mississippi   5768  NR   NR  2013-14\n",
       "416  District of Columbia   4122  NR   NR  2017-18\n",
       "467  District of Columbia  NR0NR  NR  NaN  2018-19\n",
       "489            New Jersey  NR0NR  NR  NaN  2018-19"
      ]
     },
     "execution_count": 31,
     "metadata": {},
     "output_type": "execute_result"
    }
   ],
   "source": [
    "vacc_rate[vacc_rate['%'] == 'NR']"
   ]
  },
  {
   "cell_type": "code",
   "execution_count": 32,
   "metadata": {},
   "outputs": [
    {
     "data": {
      "text/plain": [
       "array(['9441', '5058', '8321', '5931', '18039', '10831', '8657', '7226',\n",
       "       '6501', '25335', '8034', '10004', '9662', '8810', '11145', '8222',\n",
       "       '13988', '9883', '9054', '8921', '11261', '14221', '10767', '8917',\n",
       "       '11895', '7137', '9342', '16626', '7369', '7401', '11776', '9437',\n",
       "       '9896', '11349', '7060', '11427', '10027', '8263', '12327', '8537',\n",
       "       '10911', '8949', '7360', '20994', '11564', '2882', '7184', '19819',\n",
       "       '6970', '5622', '8112', '8221', '4082', '7714', '5605', '17752',\n",
       "       '10739', '8956', '5346', '5155', '23009', '7550', '7223', '6664',\n",
       "       '8455', '10957', '12527', '9035', '9961', '11049', '10622',\n",
       "       '16952', '9780', '10761', '9274', '7034', '8954', '17738', '4614',\n",
       "       '6859', '13887', '9188', '11525', '9572', '5756', '9766', '8093',\n",
       "       '6064', '12439', '7508', '10200', '7253', '7269', '22207', '10551',\n",
       "       '7738', '7537', '18192', '5748', '6899', '7019', '8598', '4380',\n",
       "       '7028', '5812', '10219', '11945', '8043', '5737', '5203', '7739',\n",
       "       '8305', '7461', '6375', '7725', '7767', '7238', '15425', '10860',\n",
       "       '8936', '10667', '12091', '19861', '9619', '14706', '7669', '5835',\n",
       "       '8967', '21365', '6304', '7003', '12538', '8714', '8392', '13141',\n",
       "       '5126', '9768', '7841', '6398', '16922', '6948', '12189', '5473',\n",
       "       '6820', '18233', '9449', '6807', '6957', '14140', '6026', '4907',\n",
       "       '6621', '7292', '4997', '6778', '5609', '9443', '11539', '8003',\n",
       "       '6360', '4615', '16443', '7013', '8208', '7551', '9666', '7337',\n",
       "       '14699', '9627', '7898', '8597', '11586', '16993', '11009',\n",
       "       '11703', '7450', '6345', '8884', '12116', '5851', '7922', '12219',\n",
       "       '7996', '9646', '8573', '6886', '11102', '6978', '6090', '14907',\n",
       "       '5067', '11504', '6674', '6900', '16032', '7915', '6665', '8929',\n",
       "       '11332', '6252', '5057', '5509', '8678', '6177', '9278', '6216',\n",
       "       '5854', '12606', '7376', '6091', '5565', '18220', '7157', '7663',\n",
       "       '6815', '8974', '10349', '8423', '14725', '10716', '7728', '8805',\n",
       "       '11734', '10324', '10921', '15917', '5768', '7387', '8780',\n",
       "       '16218', '5841', '7494', '12630', '9853', '10442', '7571', '7920',\n",
       "       '12068', '8454', '5641', '14321', '6848', '10826', '7329', '5428',\n",
       "       '20873', '15401', '7492', '9414', '10040', '6998', '7150', '6933',\n",
       "       '9092', '5223', '10518', '5875', '10590', '10314', '8006', '5041',\n",
       "       '4699', '5898', '5784', '8915', '8699', '7171', '15833', '8849',\n",
       "       '9164', '12185', '7761', '16204', '6825', '7795', '7110', '18352',\n",
       "       '4813', '6340', '10483', '7170', '13226', '7017', '6060', '9902',\n",
       "       '7393', '6443', '11990', '7015', '9708', '7582', '6192', '22940',\n",
       "       '8418', '7122', '9953', '11930', '7024', '5535', '6660', '7822',\n",
       "       '4740', '9739', '5694', '9488', '10600', '11758', '5144', '4624',\n",
       "       '15430', '5874', '7604', '6052', '7893', '6760', '7436', '12767',\n",
       "       '8733', '6240', '9654', '14683', '7863', '9405', '13846', '6424',\n",
       "       '7255', '6873', '13535', '3752', '6924', '7818', '6395', '22196',\n",
       "       '5805', '10516', '6324', '5231', '10370', '6784', '11089', '7041',\n",
       "       '5803', '21564', '8627', '6678', '9032', '14147', '7627', '5460',\n",
       "       '5668', '7901', '4998', '6418', '8010', '10103', '11507', '4687',\n",
       "       '5244', '29185', '5679', '8487', '5946', '6936', '11326', '8060',\n",
       "       '11878', '8883', '7098', '10018', '15289', '8972', '10029',\n",
       "       '12263', '6648', '5723', '4944', '12035', '5719', '7000', '8682',\n",
       "       '6342', '20948', '6668', '7130', '10327', '6511', '6492', '9292',\n",
       "       '6723', '10801', '6350', '6367', '23340', '10503', '7526', '8821',\n",
       "       '14690', '5732', '6294', '7547', '3690', '12285', '6287', '10838',\n",
       "       '7765', '9648', '6437', '4122', '13044', '9328', '7481', '4391',\n",
       "       '8472', '9863', '7712', '13771', '8375', '4291', '9298', '14178',\n",
       "       '7426', '7542', '17022', '6283', '5994', '4892', '13038', '4645',\n",
       "       '6233', '9526', '7400', '22031', '5342', '4798', '12801', '6536',\n",
       "       '5197', '7117', '6250', '10267', '8116', '4963', '18715', '9382',\n",
       "       '9944', '10814', '6542', '6323', '5306', '7966', '4169', '5247',\n",
       "       '9857', '9421', '5758', 'NR0NR', '18806', '7319', '8433', '3728',\n",
       "       '8441', '9254', '8797', '10097', '5619', '5407', '10246', '16938',\n",
       "       '7770', '9132', '10694', '6666', '11617', '3854', '6144', '7277',\n",
       "       '23398', '6767', '7313', '12308', '7087', '6325', '11333', '6699',\n",
       "       '9389', '7179', '5775', '20511', '10046', '11249', '12131', '6964',\n",
       "       '5561', '5447'], dtype=object)"
      ]
     },
     "execution_count": 32,
     "metadata": {},
     "output_type": "execute_result"
    }
   ],
   "source": [
    "vacc_rate['n'].unique()"
   ]
  },
  {
   "cell_type": "code",
   "execution_count": null,
   "metadata": {},
   "outputs": [],
   "source": [
    "vacc_rate.n.value_counts()"
   ]
  },
  {
   "cell_type": "code",
   "execution_count": null,
   "metadata": {},
   "outputs": [],
   "source": [
    "vacc_rate.isnull().sum()"
   ]
  },
  {
   "cell_type": "code",
   "execution_count": null,
   "metadata": {},
   "outputs": [],
   "source": []
  },
  {
   "cell_type": "code",
   "execution_count": null,
   "metadata": {},
   "outputs": [],
   "source": [
    "#vacc_rate.duplicated()"
   ]
  },
  {
   "cell_type": "code",
   "execution_count": null,
   "metadata": {},
   "outputs": [],
   "source": [
    "pne_flu = pd.read_csv('data/Deaths_from_Pneumonia_and_Influenza__P_I__and_all_deaths__by_state_and_region__National_Center_For_Health_Statistics_Mortality_Surveillance_System.csv')"
   ]
  },
  {
   "cell_type": "code",
   "execution_count": null,
   "metadata": {},
   "outputs": [],
   "source": [
    "pne_flu.head()"
   ]
  },
  {
   "cell_type": "code",
   "execution_count": null,
   "metadata": {},
   "outputs": [],
   "source": [
    "pne_flu.shape"
   ]
  },
  {
   "cell_type": "code",
   "execution_count": null,
   "metadata": {},
   "outputs": [],
   "source": []
  }
 ],
 "metadata": {
  "kernelspec": {
   "display_name": "Python 3",
   "language": "python",
   "name": "python3"
  },
  "language_info": {
   "codemirror_mode": {
    "name": "ipython",
    "version": 3
   },
   "file_extension": ".py",
   "mimetype": "text/x-python",
   "name": "python",
   "nbconvert_exporter": "python",
   "pygments_lexer": "ipython3",
   "version": "3.7.3"
  }
 },
 "nbformat": 4,
 "nbformat_minor": 2
}
